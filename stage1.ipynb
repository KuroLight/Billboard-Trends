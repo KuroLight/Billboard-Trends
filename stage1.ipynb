{
 "cells": [
  {
   "cell_type": "code",
   "execution_count": null,
   "metadata": {
    "collapsed": true
   },
   "outputs": [],
   "source": [
    "import pandas as pd\n",
    "import numpy as np\n",
    "import re\n",
    "import nltk\n",
    "from nltk.corpus import stopwords\n",
    "from nltk.tag import pos_tag\n",
    "import matplotlib.pyplot as plt\n",
    "import string\n",
    "import multiprocessing\n",
    "import os\n",
    "import copy\n",
    "import re\n",
    "import sklearn\n",
    "import seaborn as sns\n",
    "from collections import Counter\n",
    "import wordcloud\n",
    "%matplotlib inline\n",
    "from subprocess import check_output"
   ]
  },
  {
   "cell_type": "markdown",
   "metadata": {},
   "source": [
    "## Read dataset\n",
    "read all the data and convert them into pandas dataframes"
   ]
  },
  {
   "cell_type": "code",
   "execution_count": null,
   "metadata": {
    "collapsed": true
   },
   "outputs": [],
   "source": [
    "import json\n",
    "from pprint import pprint\n",
    "\n",
    "cwd = os.getcwd()\n",
    "# print(cwd)\n",
    "frames = []\n",
    "for file in os.listdir('lyrics_50_18/')[1500:]:\n",
    "    date = file.split('.')[0].split('_')[-1]\n",
    "    with open(cwd + '/lyrics_50_18/' + file,'r') as f:\n",
    "        df = pd.DataFrame(json.load(f)).dropna()\n",
    "        df['time'] = pd.Timestamp(date)\n",
    "        frames.append(df)\n",
    "raw_data = pd.concat(frames).reset_index()  #.drop_duplicates(['artist', 'title']) "
   ]
  },
  {
   "cell_type": "code",
   "execution_count": null,
   "metadata": {},
   "outputs": [],
   "source": [
    "raw_data"
   ]
  },
  {
   "cell_type": "markdown",
   "metadata": {},
   "source": [
    "## Data preprocessing\n",
    "1. str to lower\n",
    "2. remove stop words\n",
    "3. remove non-lyric content (eg: [Chorus: David McRae])\n",
    "4. remove punctuations"
   ]
  },
  {
   "cell_type": "code",
   "execution_count": null,
   "metadata": {
    "collapsed": true
   },
   "outputs": [],
   "source": [
    "import copy\n",
    "billboard = copy.deepcopy(raw_data)\n",
    "stop = stopwords.words('english')\n",
    "\n",
    "def preprocess(lyric):\n",
    "    lyric = lyric.lower()\n",
    "    lyric = re.sub(r'\\[.*?\\]', '', lyric)  # remove [*] pattern\n",
    "    lyric = lyric.replace(\"'s\",'')\n",
    "    lyric = lyric.replace(\"'ve\",'')\n",
    "    lyric = lyric.replace(\"'\",'')    # ' must be ignored\n",
    "    lyric = lyric.replace(\"-\",' ')\n",
    "    \n",
    "    translator = str.maketrans(string.punctuation,' '*len(string.punctuation))\n",
    "    lyric = lyric.translate(translator)\n",
    "    tokens = nltk.word_tokenize(lyric)\n",
    "    \n",
    "    return tokens\n"
   ]
  },
  {
   "cell_type": "code",
   "execution_count": null,
   "metadata": {},
   "outputs": [],
   "source": [
    "billboard['lyrics'] = billboard['lyrics'].apply(lambda x: preprocess(x))\n",
    "billboard['lyrics'] = billboard['lyrics'].apply(lambda x:[w for w in x if w not in stop])\n",
    "billboard.head(10)"
   ]
  },
  {
   "cell_type": "markdown",
   "metadata": {},
   "source": [
    "\n"
   ]
  },
  {
   "cell_type": "code",
   "execution_count": null,
   "metadata": {
    "collapsed": true
   },
   "outputs": [],
   "source": [
    "billboard['vocab_cnt'] = billboard['lyrics'].str.len()\n",
    "billboard.head(10)"
   ]
  },
  {
   "cell_type": "code",
   "execution_count": null,
   "metadata": {
    "collapsed": true
   },
   "outputs": [],
   "source": [
    "total_year_cnt = billboard.groupby(billboard.time.dt.year)['vocab_cnt'].sum()\n",
    "plt.figure(figsize=(12, 9))\n",
    "plt.title(\"Lyrics Vocabulary Count by Year\", fontsize=20)\n",
    "total_year_cnt.plot(kind='line', color='Red')"
   ]
  },
  {
   "cell_type": "code",
   "execution_count": null,
   "metadata": {
    "collapsed": true
   },
   "outputs": [],
   "source": [
    "def get_NN_pos_tag(lyric):\n",
    "    return len([w for w, pos in pos_tag(lyric) if pos == 'NN'])\n",
    "\n",
    "billboard['nouns_cnt'] = billboard['lyrics'].apply(lambda x: get_NN_pos_tag(x))\n",
    "billboard.head(10)"
   ]
  },
  {
   "cell_type": "code",
   "execution_count": null,
   "metadata": {
    "collapsed": true,
    "scrolled": false
   },
   "outputs": [],
   "source": [
    "nouns_cnt = billboard.groupby(billboard.time.dt.year)['nouns_cnt'].sum()\n",
    "plt.figure(figsize=(12, 9))\n",
    "plt.title(\"Nouns Count by Year in Lyric\", fontsize=20)\n",
    "nouns_cnt.plot(kind='line', color='Blue')"
   ]
  },
  {
   "cell_type": "code",
   "execution_count": null,
   "metadata": {
    "collapsed": true
   },
   "outputs": [],
   "source": [
    "def get_Adj_pos_tag(lyric):\n",
    "    return len([w for w, pos in pos_tag(lyric) if pos == 'JJR'])\n",
    "\n",
    "billboard['adjs_cnt'] = billboard['lyrics'].apply(lambda x: get_Adj_pos_tag(x))\n",
    "billboard.head(10)"
   ]
  },
  {
   "cell_type": "code",
   "execution_count": null,
   "metadata": {
    "collapsed": true
   },
   "outputs": [],
   "source": [
    "adjs_cnt = billboard.groupby(billboard.time.dt.year)['adjs_cnt'].sum()\n",
    "plt.figure(figsize=(12, 9))\n",
    "plt.title(\"Adjs Count by Year in Lyric\", fontsize=20)\n",
    "adjs_cnt.plot(kind='line', color='Green')"
   ]
  },
  {
   "cell_type": "code",
   "execution_count": null,
   "metadata": {
    "collapsed": true
   },
   "outputs": [],
   "source": [
    "artist_cnt = billboard.artist.value_counts()[:25]\n",
    "artist_cnt"
   ]
  },
  {
   "cell_type": "code",
   "execution_count": null,
   "metadata": {
    "collapsed": true,
    "scrolled": true
   },
   "outputs": [],
   "source": [
    "plt.figure(figsize=(13,9))\n",
    "plt.title(\"Maximum Vocabulary Count By Artist\",fontsize=20)\n",
    "vocab_cnt_by_artist = billboard.groupby('artist').agg({'vocab_cnt': sum}) \\\n",
    "                        .sort_values(['vocab_cnt'], ascending=False).vocab_cnt[:30]\n",
    "vocab_cnt_by_artist.plot('bar',color='teal')"
   ]
  },
  {
   "cell_type": "code",
   "execution_count": null,
   "metadata": {
    "collapsed": true
   },
   "outputs": [],
   "source": [
    "plt.figure(figsize=(12,5))\n",
    "plt.title(\"Max Repeated Words In Song\",fontsize=20)\n",
    "words = pd.Series(billboard['lyrics'].sum()).value_counts()\n",
    "words.plot(color='orange')"
   ]
  },
  {
   "cell_type": "code",
   "execution_count": null,
   "metadata": {
    "collapsed": true
   },
   "outputs": [],
   "source": []
  },
  {
   "cell_type": "code",
   "execution_count": null,
   "metadata": {
    "collapsed": true
   },
   "outputs": [],
   "source": []
  },
  {
   "cell_type": "code",
   "execution_count": null,
   "metadata": {
    "collapsed": true
   },
   "outputs": [],
   "source": []
  },
  {
   "cell_type": "markdown",
   "metadata": {},
   "source": [
    "## "
   ]
  },
  {
   "cell_type": "code",
   "execution_count": null,
   "metadata": {
    "collapsed": true
   },
   "outputs": [],
   "source": []
  },
  {
   "cell_type": "code",
   "execution_count": null,
   "metadata": {
    "collapsed": true
   },
   "outputs": [],
   "source": []
  },
  {
   "cell_type": "code",
   "execution_count": null,
   "metadata": {
    "collapsed": true
   },
   "outputs": [],
   "source": []
  },
  {
   "cell_type": "code",
   "execution_count": null,
   "metadata": {
    "collapsed": true
   },
   "outputs": [],
   "source": []
  }
 ],
 "metadata": {
  "kernelspec": {
   "display_name": "Python 3",
   "language": "python",
   "name": "python3"
  },
  "language_info": {
   "codemirror_mode": {
    "name": "ipython",
    "version": 3
   },
   "file_extension": ".py",
   "mimetype": "text/x-python",
   "name": "python",
   "nbconvert_exporter": "python",
   "pygments_lexer": "ipython3",
   "version": "3.6.3"
  }
 },
 "nbformat": 4,
 "nbformat_minor": 2
}
